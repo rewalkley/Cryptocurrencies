{
 "cells": [
  {
   "cell_type": "code",
   "execution_count": 6,
   "id": "1b80b8df",
   "metadata": {},
   "outputs": [],
   "source": [
    "import pandas as pd\n",
    "from sklearn.preprocessing import StandardScaler\n",
    "from sklearn.decomposition import PCA\n",
    "from sklearn.cluster import KMeans\n",
    "import hvplot.pandas"
   ]
  },
  {
   "cell_type": "code",
   "execution_count": 7,
   "id": "8a597820",
   "metadata": {},
   "outputs": [
    {
     "data": {
      "text/html": [
       "<div>\n",
       "<style scoped>\n",
       "    .dataframe tbody tr th:only-of-type {\n",
       "        vertical-align: middle;\n",
       "    }\n",
       "\n",
       "    .dataframe tbody tr th {\n",
       "        vertical-align: top;\n",
       "    }\n",
       "\n",
       "    .dataframe thead th {\n",
       "        text-align: right;\n",
       "    }\n",
       "</style>\n",
       "<table border=\"1\" class=\"dataframe\">\n",
       "  <thead>\n",
       "    <tr style=\"text-align: right;\">\n",
       "      <th></th>\n",
       "      <th>sepal_length</th>\n",
       "      <th>sepal_width</th>\n",
       "      <th>petal_length</th>\n",
       "      <th>petal_width</th>\n",
       "    </tr>\n",
       "  </thead>\n",
       "  <tbody>\n",
       "    <tr>\n",
       "      <th>0</th>\n",
       "      <td>5.1</td>\n",
       "      <td>3.5</td>\n",
       "      <td>1.4</td>\n",
       "      <td>0.2</td>\n",
       "    </tr>\n",
       "    <tr>\n",
       "      <th>1</th>\n",
       "      <td>4.9</td>\n",
       "      <td>3.0</td>\n",
       "      <td>1.4</td>\n",
       "      <td>0.2</td>\n",
       "    </tr>\n",
       "    <tr>\n",
       "      <th>2</th>\n",
       "      <td>4.7</td>\n",
       "      <td>3.2</td>\n",
       "      <td>1.3</td>\n",
       "      <td>0.2</td>\n",
       "    </tr>\n",
       "    <tr>\n",
       "      <th>3</th>\n",
       "      <td>4.6</td>\n",
       "      <td>3.1</td>\n",
       "      <td>1.5</td>\n",
       "      <td>0.2</td>\n",
       "    </tr>\n",
       "    <tr>\n",
       "      <th>4</th>\n",
       "      <td>5.0</td>\n",
       "      <td>3.6</td>\n",
       "      <td>1.4</td>\n",
       "      <td>0.2</td>\n",
       "    </tr>\n",
       "    <tr>\n",
       "      <th>5</th>\n",
       "      <td>5.4</td>\n",
       "      <td>3.9</td>\n",
       "      <td>1.7</td>\n",
       "      <td>0.4</td>\n",
       "    </tr>\n",
       "    <tr>\n",
       "      <th>6</th>\n",
       "      <td>4.6</td>\n",
       "      <td>3.4</td>\n",
       "      <td>1.4</td>\n",
       "      <td>0.3</td>\n",
       "    </tr>\n",
       "    <tr>\n",
       "      <th>7</th>\n",
       "      <td>5.0</td>\n",
       "      <td>3.4</td>\n",
       "      <td>1.5</td>\n",
       "      <td>0.2</td>\n",
       "    </tr>\n",
       "    <tr>\n",
       "      <th>8</th>\n",
       "      <td>4.4</td>\n",
       "      <td>2.9</td>\n",
       "      <td>1.4</td>\n",
       "      <td>0.2</td>\n",
       "    </tr>\n",
       "    <tr>\n",
       "      <th>9</th>\n",
       "      <td>4.9</td>\n",
       "      <td>3.1</td>\n",
       "      <td>1.5</td>\n",
       "      <td>0.1</td>\n",
       "    </tr>\n",
       "  </tbody>\n",
       "</table>\n",
       "</div>"
      ],
      "text/plain": [
       "   sepal_length  sepal_width  petal_length  petal_width\n",
       "0           5.1          3.5           1.4          0.2\n",
       "1           4.9          3.0           1.4          0.2\n",
       "2           4.7          3.2           1.3          0.2\n",
       "3           4.6          3.1           1.5          0.2\n",
       "4           5.0          3.6           1.4          0.2\n",
       "5           5.4          3.9           1.7          0.4\n",
       "6           4.6          3.4           1.4          0.3\n",
       "7           5.0          3.4           1.5          0.2\n",
       "8           4.4          2.9           1.4          0.2\n",
       "9           4.9          3.1           1.5          0.1"
      ]
     },
     "execution_count": 7,
     "metadata": {},
     "output_type": "execute_result"
    }
   ],
   "source": [
    "# Loading data\n",
    "file_path = \"C:/Users/14109/code/Cryptocurrencies/Crypto/new_iris_data.csv\"\n",
    "df_iris = pd.read_csv(file_path)\n",
    "\n",
    "df_iris.head(10)"
   ]
  },
  {
   "cell_type": "code",
   "execution_count": 8,
   "id": "700d54a0",
   "metadata": {},
   "outputs": [],
   "source": [
    "# Initialize PCA model\n",
    "pca = PCA(n_components=2)"
   ]
  },
  {
   "cell_type": "code",
   "execution_count": 10,
   "id": "687edee0",
   "metadata": {},
   "outputs": [
    {
     "name": "stdout",
     "output_type": "stream",
     "text": [
      "[[-0.90068117  1.03205722 -1.3412724  -1.31297673]\n",
      " [-1.14301691 -0.1249576  -1.3412724  -1.31297673]\n",
      " [-1.38535265  0.33784833 -1.39813811 -1.31297673]\n",
      " [-1.50652052  0.10644536 -1.2844067  -1.31297673]\n",
      " [-1.02184904  1.26346019 -1.3412724  -1.31297673]]\n"
     ]
    }
   ],
   "source": [
    "iris_scaled = StandardScaler().fit_transform(df_iris)\n",
    "print(iris_scaled[0:5])"
   ]
  },
  {
   "cell_type": "code",
   "execution_count": 11,
   "id": "767f7321",
   "metadata": {},
   "outputs": [],
   "source": [
    "# Get two principal components for the iris data.\n",
    "iris_pca = pca.fit_transform(iris_scaled)"
   ]
  },
  {
   "cell_type": "code",
   "execution_count": 12,
   "id": "6c44116e",
   "metadata": {
    "scrolled": true
   },
   "outputs": [
    {
     "data": {
      "text/html": [
       "<div>\n",
       "<style scoped>\n",
       "    .dataframe tbody tr th:only-of-type {\n",
       "        vertical-align: middle;\n",
       "    }\n",
       "\n",
       "    .dataframe tbody tr th {\n",
       "        vertical-align: top;\n",
       "    }\n",
       "\n",
       "    .dataframe thead th {\n",
       "        text-align: right;\n",
       "    }\n",
       "</style>\n",
       "<table border=\"1\" class=\"dataframe\">\n",
       "  <thead>\n",
       "    <tr style=\"text-align: right;\">\n",
       "      <th></th>\n",
       "      <th>principal component 1</th>\n",
       "      <th>principal component 2</th>\n",
       "    </tr>\n",
       "  </thead>\n",
       "  <tbody>\n",
       "    <tr>\n",
       "      <th>0</th>\n",
       "      <td>-2.264542</td>\n",
       "      <td>0.505704</td>\n",
       "    </tr>\n",
       "    <tr>\n",
       "      <th>1</th>\n",
       "      <td>-2.086426</td>\n",
       "      <td>-0.655405</td>\n",
       "    </tr>\n",
       "    <tr>\n",
       "      <th>2</th>\n",
       "      <td>-2.367950</td>\n",
       "      <td>-0.318477</td>\n",
       "    </tr>\n",
       "    <tr>\n",
       "      <th>3</th>\n",
       "      <td>-2.304197</td>\n",
       "      <td>-0.575368</td>\n",
       "    </tr>\n",
       "    <tr>\n",
       "      <th>4</th>\n",
       "      <td>-2.388777</td>\n",
       "      <td>0.674767</td>\n",
       "    </tr>\n",
       "  </tbody>\n",
       "</table>\n",
       "</div>"
      ],
      "text/plain": [
       "   principal component 1  principal component 2\n",
       "0              -2.264542               0.505704\n",
       "1              -2.086426              -0.655405\n",
       "2              -2.367950              -0.318477\n",
       "3              -2.304197              -0.575368\n",
       "4              -2.388777               0.674767"
      ]
     },
     "execution_count": 12,
     "metadata": {},
     "output_type": "execute_result"
    }
   ],
   "source": [
    "df_iris_pca = pd.DataFrame(\n",
    "    data=iris_pca, columns=[\"principal component 1\", \"principal component 2\"]\n",
    ")\n",
    "df_iris_pca.head()"
   ]
  },
  {
   "cell_type": "code",
   "execution_count": 13,
   "id": "21a243c7",
   "metadata": {},
   "outputs": [
    {
     "data": {
      "text/plain": [
       "array([0.72770452, 0.23030523])"
      ]
     },
     "execution_count": 13,
     "metadata": {},
     "output_type": "execute_result"
    }
   ],
   "source": [
    "pca.explained_variance_ratio_"
   ]
  },
  {
   "cell_type": "code",
   "execution_count": 14,
   "id": "b8f3cdbb",
   "metadata": {},
   "outputs": [
    {
     "name": "stderr",
     "output_type": "stream",
     "text": [
      "C:\\Users\\14109\\anaconda3\\envs\\mlenv\\lib\\site-packages\\sklearn\\cluster\\_kmeans.py:882: UserWarning: KMeans is known to have a memory leak on Windows with MKL, when there are less chunks than available threads. You can avoid it by setting the environment variable OMP_NUM_THREADS=1.\n",
      "  f\"KMeans is known to have a memory leak on Windows \"\n"
     ]
    },
    {
     "data": {},
     "metadata": {},
     "output_type": "display_data"
    },
    {
     "data": {
      "application/vnd.holoviews_exec.v0+json": "",
      "text/html": [
       "<div id='1002'>\n",
       "\n",
       "\n",
       "\n",
       "\n",
       "\n",
       "  <div class=\"bk-root\" id=\"db895c53-60b6-4c09-a372-246a6d308813\" data-root-id=\"1002\"></div>\n",
       "</div>\n",
       "<script type=\"application/javascript\">(function(root) {\n",
       "  function embed_document(root) {\n",
       "    var docs_json = {\"a7e5f4b7-3ff9-4581-87aa-ecd63ee83e45\":{\"defs\":[],\"roots\":{\"references\":[{\"attributes\":{\"overlay\":{\"id\":\"1029\"}},\"id\":\"1027\",\"type\":\"BoxZoomTool\"},{\"attributes\":{\"children\":[{\"id\":\"1003\"},{\"id\":\"1007\"},{\"id\":\"1073\"}],\"margin\":[0,0,0,0],\"name\":\"Row01625\",\"tags\":[\"embedded\"]},\"id\":\"1002\",\"type\":\"Row\"},{\"attributes\":{},\"id\":\"1047\",\"type\":\"BasicTickFormatter\"},{\"attributes\":{\"axis\":{\"id\":\"1020\"},\"dimension\":1,\"grid_line_color\":null,\"ticker\":null},\"id\":\"1023\",\"type\":\"Grid\"},{\"attributes\":{\"margin\":[5,5,5,5],\"name\":\"HSpacer01629\",\"sizing_mode\":\"stretch_width\"},\"id\":\"1003\",\"type\":\"Spacer\"},{\"attributes\":{},\"id\":\"1054\",\"type\":\"AllLabels\"},{\"attributes\":{\"text\":\"Elbow Curve\",\"text_color\":\"black\",\"text_font_size\":\"12pt\"},\"id\":\"1008\",\"type\":\"Title\"},{\"attributes\":{\"data_source\":{\"id\":\"1037\"},\"glyph\":{\"id\":\"1040\"},\"hover_glyph\":null,\"muted_glyph\":{\"id\":\"1042\"},\"nonselection_glyph\":{\"id\":\"1041\"},\"selection_glyph\":{\"id\":\"1045\"},\"view\":{\"id\":\"1044\"}},\"id\":\"1043\",\"type\":\"GlyphRenderer\"},{\"attributes\":{\"axis\":{\"id\":\"1016\"},\"grid_line_color\":null,\"ticker\":null},\"id\":\"1019\",\"type\":\"Grid\"},{\"attributes\":{\"axis_label\":\"k\",\"formatter\":{\"id\":\"1047\"},\"major_label_policy\":{\"id\":\"1049\"},\"ticker\":{\"id\":\"1046\"}},\"id\":\"1016\",\"type\":\"LinearAxis\"},{\"attributes\":{},\"id\":\"1052\",\"type\":\"BasicTickFormatter\"},{\"attributes\":{\"line_alpha\":0.2,\"line_color\":\"#30a2da\",\"line_width\":2,\"x\":{\"field\":\"k\"},\"y\":{\"field\":\"inertia\"}},\"id\":\"1042\",\"type\":\"Line\"},{\"attributes\":{\"end\":629.4448064337392,\"reset_end\":629.4448064337392,\"reset_start\":-26.222644744436845,\"start\":-26.222644744436845,\"tags\":[[[\"inertia\",\"inertia\",null]]]},\"id\":\"1005\",\"type\":\"Range1d\"},{\"attributes\":{\"source\":{\"id\":\"1037\"}},\"id\":\"1044\",\"type\":\"CDSView\"},{\"attributes\":{},\"id\":\"1021\",\"type\":\"BasicTicker\"},{\"attributes\":{\"callback\":null,\"renderers\":[{\"id\":\"1043\"}],\"tags\":[\"hv_created\"],\"tooltips\":[[\"k\",\"@{k}\"],[\"inertia\",\"@{inertia}\"]]},\"id\":\"1006\",\"type\":\"HoverTool\"},{\"attributes\":{\"axis_label\":\"inertia\",\"formatter\":{\"id\":\"1052\"},\"major_label_policy\":{\"id\":\"1054\"},\"ticker\":{\"id\":\"1021\"}},\"id\":\"1020\",\"type\":\"LinearAxis\"},{\"attributes\":{\"end\":10.0,\"reset_end\":10.0,\"reset_start\":1.0,\"start\":1.0,\"tags\":[[[\"k\",\"k\",null]]]},\"id\":\"1004\",\"type\":\"Range1d\"},{\"attributes\":{\"ticks\":[1,2,3,4,5,6,7,8,9,10]},\"id\":\"1046\",\"type\":\"FixedTicker\"},{\"attributes\":{},\"id\":\"1038\",\"type\":\"Selection\"},{\"attributes\":{\"bottom_units\":\"screen\",\"fill_alpha\":0.5,\"fill_color\":\"lightgrey\",\"left_units\":\"screen\",\"level\":\"overlay\",\"line_alpha\":1.0,\"line_color\":\"black\",\"line_dash\":[4,4],\"line_width\":2,\"right_units\":\"screen\",\"syncable\":false,\"top_units\":\"screen\"},\"id\":\"1029\",\"type\":\"BoxAnnotation\"},{\"attributes\":{\"data\":{\"inertia\":{\"__ndarray__\":\"YzafYnL2gUAqbWBmntZoQJ+mqsr9Bl1ATPWgT6xnVkDc0qR94pNQQAgzFtg6gkxAK4lQDTvuR0DxMOcNVaJDQOW1b3wwFkBA7S2/QpNqPEA=\",\"dtype\":\"float64\",\"order\":\"little\",\"shape\":[10]},\"k\":[1,2,3,4,5,6,7,8,9,10]},\"selected\":{\"id\":\"1038\"},\"selection_policy\":{\"id\":\"1062\"}},\"id\":\"1037\",\"type\":\"ColumnDataSource\"},{\"attributes\":{\"line_color\":\"#30a2da\",\"line_width\":2,\"x\":{\"field\":\"k\"},\"y\":{\"field\":\"inertia\"}},\"id\":\"1040\",\"type\":\"Line\"},{\"attributes\":{},\"id\":\"1012\",\"type\":\"LinearScale\"},{\"attributes\":{\"below\":[{\"id\":\"1016\"}],\"center\":[{\"id\":\"1019\"},{\"id\":\"1023\"}],\"height\":300,\"left\":[{\"id\":\"1020\"}],\"margin\":[5,5,5,5],\"min_border_bottom\":10,\"min_border_left\":10,\"min_border_right\":10,\"min_border_top\":10,\"renderers\":[{\"id\":\"1043\"}],\"sizing_mode\":\"fixed\",\"title\":{\"id\":\"1008\"},\"toolbar\":{\"id\":\"1030\"},\"width\":700,\"x_range\":{\"id\":\"1004\"},\"x_scale\":{\"id\":\"1012\"},\"y_range\":{\"id\":\"1005\"},\"y_scale\":{\"id\":\"1014\"}},\"id\":\"1007\",\"subtype\":\"Figure\",\"type\":\"Plot\"},{\"attributes\":{\"line_color\":\"#30a2da\",\"line_width\":2,\"x\":{\"field\":\"k\"},\"y\":{\"field\":\"inertia\"}},\"id\":\"1045\",\"type\":\"Line\"},{\"attributes\":{\"line_alpha\":0.1,\"line_color\":\"#30a2da\",\"line_width\":2,\"x\":{\"field\":\"k\"},\"y\":{\"field\":\"inertia\"}},\"id\":\"1041\",\"type\":\"Line\"},{\"attributes\":{\"active_multi\":null,\"tools\":[{\"id\":\"1006\"},{\"id\":\"1024\"},{\"id\":\"1025\"},{\"id\":\"1026\"},{\"id\":\"1027\"},{\"id\":\"1028\"}]},\"id\":\"1030\",\"type\":\"Toolbar\"},{\"attributes\":{},\"id\":\"1049\",\"type\":\"AllLabels\"},{\"attributes\":{},\"id\":\"1024\",\"type\":\"SaveTool\"},{\"attributes\":{},\"id\":\"1062\",\"type\":\"UnionRenderers\"},{\"attributes\":{\"margin\":[5,5,5,5],\"name\":\"HSpacer01630\",\"sizing_mode\":\"stretch_width\"},\"id\":\"1073\",\"type\":\"Spacer\"},{\"attributes\":{},\"id\":\"1025\",\"type\":\"PanTool\"},{\"attributes\":{},\"id\":\"1028\",\"type\":\"ResetTool\"},{\"attributes\":{},\"id\":\"1026\",\"type\":\"WheelZoomTool\"},{\"attributes\":{},\"id\":\"1014\",\"type\":\"LinearScale\"}],\"root_ids\":[\"1002\"]},\"title\":\"Bokeh Application\",\"version\":\"2.3.2\"}};\n",
       "    var render_items = [{\"docid\":\"a7e5f4b7-3ff9-4581-87aa-ecd63ee83e45\",\"root_ids\":[\"1002\"],\"roots\":{\"1002\":\"db895c53-60b6-4c09-a372-246a6d308813\"}}];\n",
       "    root.Bokeh.embed.embed_items_notebook(docs_json, render_items);\n",
       "  }\n",
       "  if (root.Bokeh !== undefined && root.Bokeh.Panel !== undefined) {\n",
       "    embed_document(root);\n",
       "  } else {\n",
       "    var attempts = 0;\n",
       "    var timer = setInterval(function(root) {\n",
       "      if (root.Bokeh !== undefined && root.Bokeh.Panel !== undefined) {\n",
       "        clearInterval(timer);\n",
       "        embed_document(root);\n",
       "      } else if (document.readyState == \"complete\") {\n",
       "        attempts++;\n",
       "        if (attempts > 100) {\n",
       "          clearInterval(timer);\n",
       "          console.log(\"Bokeh: ERROR: Unable to run BokehJS code because BokehJS library is missing\");\n",
       "        }\n",
       "      }\n",
       "    }, 10, root)\n",
       "  }\n",
       "})(window);</script>"
      ],
      "text/plain": [
       ":Curve   [k]   (inertia)"
      ]
     },
     "execution_count": 14,
     "metadata": {
      "application/vnd.holoviews_exec.v0+json": {
       "id": "1002"
      }
     },
     "output_type": "execute_result"
    }
   ],
   "source": [
    "# Find the best value for K\n",
    "inertia = []\n",
    "k = list(range(1, 11))\n",
    "\n",
    "# Calculate the inertia for the range of K values\n",
    "for i in k:\n",
    "    km = KMeans(n_clusters=i, random_state=0)\n",
    "    km.fit(df_iris_pca)\n",
    "    inertia.append(km.inertia_)\n",
    "\n",
    "# Create the elbow curve\n",
    "elbow_data = {\"k\": k, \"inertia\": inertia}\n",
    "df_elbow = pd.DataFrame(elbow_data)\n",
    "df_elbow.hvplot.line(x=\"k\", y=\"inertia\", xticks=k, title=\"Elbow Curve\")"
   ]
  },
  {
   "cell_type": "code",
   "execution_count": 15,
   "id": "61164f7c",
   "metadata": {},
   "outputs": [
    {
     "data": {
      "text/html": [
       "<div>\n",
       "<style scoped>\n",
       "    .dataframe tbody tr th:only-of-type {\n",
       "        vertical-align: middle;\n",
       "    }\n",
       "\n",
       "    .dataframe tbody tr th {\n",
       "        vertical-align: top;\n",
       "    }\n",
       "\n",
       "    .dataframe thead th {\n",
       "        text-align: right;\n",
       "    }\n",
       "</style>\n",
       "<table border=\"1\" class=\"dataframe\">\n",
       "  <thead>\n",
       "    <tr style=\"text-align: right;\">\n",
       "      <th></th>\n",
       "      <th>principal component 1</th>\n",
       "      <th>principal component 2</th>\n",
       "      <th>class</th>\n",
       "    </tr>\n",
       "  </thead>\n",
       "  <tbody>\n",
       "    <tr>\n",
       "      <th>0</th>\n",
       "      <td>-2.264542</td>\n",
       "      <td>0.505704</td>\n",
       "      <td>0</td>\n",
       "    </tr>\n",
       "    <tr>\n",
       "      <th>1</th>\n",
       "      <td>-2.086426</td>\n",
       "      <td>-0.655405</td>\n",
       "      <td>0</td>\n",
       "    </tr>\n",
       "    <tr>\n",
       "      <th>2</th>\n",
       "      <td>-2.367950</td>\n",
       "      <td>-0.318477</td>\n",
       "      <td>0</td>\n",
       "    </tr>\n",
       "    <tr>\n",
       "      <th>3</th>\n",
       "      <td>-2.304197</td>\n",
       "      <td>-0.575368</td>\n",
       "      <td>0</td>\n",
       "    </tr>\n",
       "    <tr>\n",
       "      <th>4</th>\n",
       "      <td>-2.388777</td>\n",
       "      <td>0.674767</td>\n",
       "      <td>0</td>\n",
       "    </tr>\n",
       "  </tbody>\n",
       "</table>\n",
       "</div>"
      ],
      "text/plain": [
       "   principal component 1  principal component 2  class\n",
       "0              -2.264542               0.505704      0\n",
       "1              -2.086426              -0.655405      0\n",
       "2              -2.367950              -0.318477      0\n",
       "3              -2.304197              -0.575368      0\n",
       "4              -2.388777               0.674767      0"
      ]
     },
     "execution_count": 15,
     "metadata": {},
     "output_type": "execute_result"
    }
   ],
   "source": [
    "# Initialize the K-means model\n",
    "model = KMeans(n_clusters=3, random_state=0)\n",
    "\n",
    "# Fit the model\n",
    "model.fit(df_iris_pca)\n",
    "\n",
    "# Predict clusters\n",
    "predictions = model.predict(df_iris_pca)\n",
    "\n",
    "# Add the predicted class columns\n",
    "df_iris_pca[\"class\"] = model.labels_\n",
    "df_iris_pca.head()"
   ]
  },
  {
   "cell_type": "code",
   "execution_count": 16,
   "id": "07caa82c",
   "metadata": {},
   "outputs": [
    {
     "data": {},
     "metadata": {},
     "output_type": "display_data"
    },
    {
     "data": {
      "application/vnd.holoviews_exec.v0+json": "",
      "text/html": [
       "<div id='1120'>\n",
       "\n",
       "\n",
       "\n",
       "\n",
       "\n",
       "  <div class=\"bk-root\" id=\"3fd9f141-4d3c-4dc1-8e2b-4e45ba8f8bc7\" data-root-id=\"1120\"></div>\n",
       "</div>\n",
       "<script type=\"application/javascript\">(function(root) {\n",
       "  function embed_document(root) {\n",
       "    var docs_json = {\"4f7667b0-fd45-4af7-a6e6-7824b1351c99\":{\"defs\":[],\"roots\":{\"references\":[{\"attributes\":{},\"id\":\"1145\",\"type\":\"PanTool\"},{\"attributes\":{\"fill_alpha\":{\"value\":0.2},\"fill_color\":{\"value\":\"#e5ae38\"},\"line_alpha\":{\"value\":0.2},\"line_color\":{\"value\":\"#e5ae38\"},\"size\":{\"value\":5.477225575051661},\"x\":{\"field\":\"principal component 1\"},\"y\":{\"field\":\"principal component 2\"}},\"id\":\"1211\",\"type\":\"Scatter\"},{\"attributes\":{},\"id\":\"1202\",\"type\":\"UnionRenderers\"},{\"attributes\":{\"margin\":[5,5,5,5],\"name\":\"HSpacer01861\",\"sizing_mode\":\"stretch_width\"},\"id\":\"1356\",\"type\":\"Spacer\"},{\"attributes\":{},\"id\":\"1148\",\"type\":\"ResetTool\"},{\"attributes\":{\"fill_alpha\":{\"value\":0.2},\"fill_color\":{\"value\":\"#30a2da\"},\"line_alpha\":{\"value\":0.2},\"line_color\":{\"value\":\"#30a2da\"},\"size\":{\"value\":5.477225575051661},\"x\":{\"field\":\"principal component 1\"},\"y\":{\"field\":\"principal component 2\"}},\"id\":\"1168\",\"type\":\"Scatter\"},{\"attributes\":{},\"id\":\"1146\",\"type\":\"WheelZoomTool\"},{\"attributes\":{\"source\":{\"id\":\"1206\"}},\"id\":\"1213\",\"type\":\"CDSView\"},{\"attributes\":{},\"id\":\"1226\",\"type\":\"UnionRenderers\"},{\"attributes\":{},\"id\":\"1137\",\"type\":\"BasicTicker\"},{\"attributes\":{},\"id\":\"1132\",\"type\":\"LinearScale\"},{\"attributes\":{\"overlay\":{\"id\":\"1149\"}},\"id\":\"1147\",\"type\":\"BoxZoomTool\"},{\"attributes\":{\"data\":{\"class\":{\"__ndarray__\":\"AAAAAAAAAAAAAAAAAAAAAAAAAAAAAAAAAAAAAAAAAAAAAAAAAAAAAAAAAAAAAAAAAAAAAAAAAAAAAAAAAAAAAAAAAAAAAAAAAAAAAAAAAAAAAAAAAAAAAAAAAAAAAAAAAAAAAAAAAAAAAAAAAAAAAAAAAAAAAAAAAAAAAAAAAAAAAAAAAAAAAAAAAAAAAAAAAAAAAAAAAAAAAAAAAAAAAAAAAAAAAAAAAAAAAAAAAAAAAAAAAAAAAAAAAAAAAAAAAAAAAAAAAAA=\",\"dtype\":\"int32\",\"order\":\"little\",\"shape\":[50]},\"principal component 1\":{\"__ndarray__\":\"ORG/DcgdAsCiflXa/7AAwCstSgGQ8QLAqnjV6/5uAsB7OOBfNxwDwK8JAJp1kADA6FhZG9GQA8C3vPx66N4BwLfvZ05UvALA4dUzb2iCAcDEACQK0k4BwH2PWzp4ngLAa0HW4evKAcBuYBiPIx4FwN5kYiHQiQHA6sLFMQADAsDAicmkO58BwNDnRqd8hQHADbKL2CBO/r9tMd43N7gCwDUu6+IFov6/JnpNIB2jAcAhHszufzEGwHCyHOBnIP2/cG9EsmPTAcBkStBn+E//v+YJWiugagDAzRcE6nVYAcDy6Z27WB8BwCANM3l7JgLA3eURJwwoAcCsCNRTnk/9v3OUD3eZ3QTAw4xIYeyAA8Dh1TNvaIIBwAPB4qBfsAHApwtPDPdaAMDh1TNvaIIBwJvdMoLUfAPAUiP02UddAcA54QHLzkoCwF9zDEaD8v2/XPlj5HF2BMD1iQQfsG3/v/aHnMYlEQHAnu7lFFWaAMDP+qMb0QwDwI9moB9/LwPAKposq3LQAcDajpZMy6UBwA==\",\"dtype\":\"float64\",\"order\":\"little\",\"shape\":[50]},\"principal component 2\":{\"__ndarray__\":\"X+9787ku4D/bF8lWE/nkv2LYpqjuYdS/CSSQjGlp4r/P0afLsZflP7e+IZP5S/g/VSSoGooWsz91eXQ10LHPP8oIOjG4hfG/gU6pnFa23L9kMKXTKCHxPza/qP2XTMQ/n6o3kBix5r9+iXLvZwbuv9KryBtaPf4/j7WrfGrHBUBdjF03Ujj4PzP+/04udeA/7Uk0V9Tl9j8lpZIPTofyP2TAlsG9jNs/1fKSxId67j9Hu+o4P1TfPx3WDBwFVLs/Ve1BJITCxD+yYRod23Pjv22qjuRgBtE/a4xIfx6q4T/YGaA2hIvVP1RBWpX4JtS/PAayRej43r8Hlx54QH/cP7NxJTRvQf0/wLJwma57AUCBTqmcVrbcvxTn16FhmMe/q+VDvSnr5T+BTqmcVrbcv27EP1q7Ouy/ckSP1gm80j9SwmaGk/PdP3p/28YcnwLAl+8l3FML3b9lssu+Q9XfP+reGJkvvvI/84wv2S8k5r9QqsG4/WjyP8qttwhpMde/dO6vZGBo8D/r7UmWeoGgPw==\",\"dtype\":\"float64\",\"order\":\"little\",\"shape\":[50]},\"principal_component_1\":{\"__ndarray__\":\"ORG/DcgdAsCiflXa/7AAwCstSgGQ8QLAqnjV6/5uAsB7OOBfNxwDwK8JAJp1kADA6FhZG9GQA8C3vPx66N4BwLfvZ05UvALA4dUzb2iCAcDEACQK0k4BwH2PWzp4ngLAa0HW4evKAcBuYBiPIx4FwN5kYiHQiQHA6sLFMQADAsDAicmkO58BwNDnRqd8hQHADbKL2CBO/r9tMd43N7gCwDUu6+IFov6/JnpNIB2jAcAhHszufzEGwHCyHOBnIP2/cG9EsmPTAcBkStBn+E//v+YJWiugagDAzRcE6nVYAcDy6Z27WB8BwCANM3l7JgLA3eURJwwoAcCsCNRTnk/9v3OUD3eZ3QTAw4xIYeyAA8Dh1TNvaIIBwAPB4qBfsAHApwtPDPdaAMDh1TNvaIIBwJvdMoLUfAPAUiP02UddAcA54QHLzkoCwF9zDEaD8v2/XPlj5HF2BMD1iQQfsG3/v/aHnMYlEQHAnu7lFFWaAMDP+qMb0QwDwI9moB9/LwPAKposq3LQAcDajpZMy6UBwA==\",\"dtype\":\"float64\",\"order\":\"little\",\"shape\":[50]},\"principal_component_2\":{\"__ndarray__\":\"X+9787ku4D/bF8lWE/nkv2LYpqjuYdS/CSSQjGlp4r/P0afLsZflP7e+IZP5S/g/VSSoGooWsz91eXQ10LHPP8oIOjG4hfG/gU6pnFa23L9kMKXTKCHxPza/qP2XTMQ/n6o3kBix5r9+iXLvZwbuv9KryBtaPf4/j7WrfGrHBUBdjF03Ujj4PzP+/04udeA/7Uk0V9Tl9j8lpZIPTofyP2TAlsG9jNs/1fKSxId67j9Hu+o4P1TfPx3WDBwFVLs/Ve1BJITCxD+yYRod23Pjv22qjuRgBtE/a4xIfx6q4T/YGaA2hIvVP1RBWpX4JtS/PAayRej43r8Hlx54QH/cP7NxJTRvQf0/wLJwma57AUCBTqmcVrbcvxTn16FhmMe/q+VDvSnr5T+BTqmcVrbcv27EP1q7Ouy/ckSP1gm80j9SwmaGk/PdP3p/28YcnwLAl+8l3FML3b9lssu+Q9XfP+reGJkvvvI/84wv2S8k5r9QqsG4/WjyP8qttwhpMde/dO6vZGBo8D/r7UmWeoGgPw==\",\"dtype\":\"float64\",\"order\":\"little\",\"shape\":[50]}},\"selected\":{\"id\":\"1164\"},\"selection_policy\":{\"id\":\"1179\"}},\"id\":\"1163\",\"type\":\"ColumnDataSource\"},{\"attributes\":{},\"id\":\"1157\",\"type\":\"BasicTickFormatter\"},{\"attributes\":{\"below\":[{\"id\":\"1136\"}],\"center\":[{\"id\":\"1139\"},{\"id\":\"1143\"}],\"height\":300,\"left\":[{\"id\":\"1140\"}],\"margin\":[5,5,5,5],\"min_border_bottom\":10,\"min_border_left\":10,\"min_border_right\":10,\"min_border_top\":10,\"renderers\":[{\"id\":\"1169\"},{\"id\":\"1190\"},{\"id\":\"1212\"}],\"right\":[{\"id\":\"1181\"}],\"sizing_mode\":\"fixed\",\"title\":{\"id\":\"1128\"},\"toolbar\":{\"id\":\"1150\"},\"width\":700,\"x_range\":{\"id\":\"1122\"},\"x_scale\":{\"id\":\"1132\"},\"y_range\":{\"id\":\"1123\"},\"y_scale\":{\"id\":\"1134\"}},\"id\":\"1127\",\"subtype\":\"Figure\",\"type\":\"Plot\"},{\"attributes\":{\"angle\":{\"value\":0.0},\"fill_alpha\":{\"value\":1.0},\"fill_color\":{\"value\":\"#e5ae38\"},\"hatch_alpha\":{\"value\":1.0},\"hatch_color\":{\"value\":\"black\"},\"hatch_scale\":{\"value\":12.0},\"hatch_weight\":{\"value\":1.0},\"line_alpha\":{\"value\":1.0},\"line_cap\":{\"value\":\"butt\"},\"line_color\":{\"value\":\"#e5ae38\"},\"line_dash\":{\"value\":[]},\"line_dash_offset\":{\"value\":0},\"line_join\":{\"value\":\"bevel\"},\"line_width\":{\"value\":1},\"marker\":{\"value\":\"circle\"},\"size\":{\"value\":5.477225575051661},\"x\":{\"field\":\"principal component 1\"},\"y\":{\"field\":\"principal component 2\"}},\"id\":\"1229\",\"type\":\"Scatter\"},{\"attributes\":{\"label\":{\"value\":\"2\"},\"renderers\":[{\"id\":\"1212\"}]},\"id\":\"1228\",\"type\":\"LegendItem\"},{\"attributes\":{\"callback\":null,\"renderers\":[{\"id\":\"1169\"},{\"id\":\"1190\"},{\"id\":\"1212\"}],\"tags\":[\"hv_created\"],\"tooltips\":[[\"class\",\"@{class}\"],[\"principal component 1\",\"@{principal_component_1}\"],[\"principal component 2\",\"@{principal_component_2}\"]]},\"id\":\"1124\",\"type\":\"HoverTool\"},{\"attributes\":{\"axis\":{\"id\":\"1136\"},\"grid_line_color\":null,\"ticker\":null},\"id\":\"1139\",\"type\":\"Grid\"},{\"attributes\":{\"click_policy\":\"mute\",\"items\":[{\"id\":\"1182\"},{\"id\":\"1204\"},{\"id\":\"1228\"}],\"location\":[0,0],\"title\":\"class\"},\"id\":\"1181\",\"type\":\"Legend\"},{\"attributes\":{\"fill_color\":{\"value\":\"#fc4f30\"},\"line_color\":{\"value\":\"#fc4f30\"},\"size\":{\"value\":5.477225575051661},\"x\":{\"field\":\"principal component 1\"},\"y\":{\"field\":\"principal component 2\"}},\"id\":\"1187\",\"type\":\"Scatter\"},{\"attributes\":{\"fill_alpha\":{\"value\":0.1},\"fill_color\":{\"value\":\"#e5ae38\"},\"line_alpha\":{\"value\":0.1},\"line_color\":{\"value\":\"#e5ae38\"},\"size\":{\"value\":5.477225575051661},\"x\":{\"field\":\"principal component 1\"},\"y\":{\"field\":\"principal component 2\"}},\"id\":\"1210\",\"type\":\"Scatter\"},{\"attributes\":{},\"id\":\"1185\",\"type\":\"Selection\"},{\"attributes\":{\"end\":3.569854510235275,\"reset_end\":3.569854510235275,\"reset_start\":-3.0348831212643517,\"start\":-3.0348831212643517,\"tags\":[[[\"principal component 1\",\"principal component 1\",null]]]},\"id\":\"1122\",\"type\":\"Range1d\"},{\"attributes\":{\"text_color\":\"black\",\"text_font_size\":\"12pt\"},\"id\":\"1128\",\"type\":\"Title\"},{\"attributes\":{\"axis_label\":\"principal component 2\",\"formatter\":{\"id\":\"1160\"},\"major_label_policy\":{\"id\":\"1162\"},\"ticker\":{\"id\":\"1141\"}},\"id\":\"1140\",\"type\":\"LinearAxis\"},{\"attributes\":{\"children\":[{\"id\":\"1121\"},{\"id\":\"1127\"},{\"id\":\"1356\"}],\"margin\":[0,0,0,0],\"name\":\"Row01856\",\"tags\":[\"embedded\"]},\"id\":\"1120\",\"type\":\"Row\"},{\"attributes\":{\"axis_label\":\"principal component 1\",\"formatter\":{\"id\":\"1157\"},\"major_label_policy\":{\"id\":\"1159\"},\"ticker\":{\"id\":\"1137\"}},\"id\":\"1136\",\"type\":\"LinearAxis\"},{\"attributes\":{},\"id\":\"1159\",\"type\":\"AllLabels\"},{\"attributes\":{\"data\":{\"class\":{\"__ndarray__\":\"AgAAAAIAAAACAAAAAgAAAAIAAAACAAAAAgAAAAIAAAACAAAAAgAAAAIAAAACAAAAAgAAAAIAAAACAAAAAgAAAAIAAAACAAAAAgAAAAIAAAACAAAAAgAAAAIAAAACAAAAAgAAAAIAAAACAAAAAgAAAAIAAAACAAAAAgAAAAIAAAACAAAAAgAAAAIAAAACAAAAAgAAAAIAAAACAAAAAgAAAAIAAAACAAAAAgAAAAIAAAACAAAAAgAAAAIAAAA=\",\"dtype\":\"int32\",\"order\":\"little\",\"shape\":[47]},\"principal component 1\":{\"__ndarray__\":\"cZicP/Wp8T/ndLjqfHDnP0ZUdjeu3/M/jn2nUXn15z96t9eWSwfsPwLqCkTLn+c/YokX1wP06z/nYaNJSxH0PxJwyrRZu/U/YSqW1lWi2z+iboqoZcrwP19oZCMRkP0/W6OtkJqmAUCrkwP82gT3P8Cof1zh4v0/b0K5SJgIBkDiZzhbjmwCQPIm68uNAwBAH09oqvMjAkBri3vYw9r1P6cQOb/Elfk/Nq6UReUl/j8X0QQIDXj5P3cdkBhdivc/PvYnSsB/A0AwhisDH3kKQJTn9rPvUgBANC4taDwvB0A/qLnnkUT7P6IJnj3aUv8/HNLu7wVR8D+Z2hYHfpP8P3obVl0h1v0/hfhsDuZ7A0AwtjE3VocCQGYtB9QUxP0/jE42KVhoBkCx+a/eUEj5P+3OTXR+jfU/OAUQICao/T8MDMQGFyEAQLRqwqkqc/4/Nw5TGLJYAEC4eb2NdgMAQO3gNY2o7f0/9YJComFV+D8M9OTEsgX2Pw==\",\"dtype\":\"float64\",\"order\":\"little\",\"shape\":[47]},\"principal component 2\":{\"__ndarray__\":\"znb2/Z2e6z8XPDfKBSjjP9HNPSGgrOM/rl+rWRnr6D9cOXqk51HgP5NBqiETwtk/VZ7yIJwL0D8tiLBClya1vzgteShkC9U/Cwg+Gkhd6z+6k6QJ17XgP4Isy2Xw5Os/A8TpFji+4T+XlDOr+pqpv+5EGSLnotI/mAetLdY66T9AO0mDhTXaP7GQnq/nKee/uo2XATu+/j8xoQKF0jTmP2l9L85taNu/ZqdDi22E2j8wfGgVRqrlPzA3rDJONNA/fjlsMT10BEBfkKQTDFhjvzp0hSJpCe0/XJKR42l12T+OWt+y8znwP5mAK36oDfA/bqj7cmzHsD/hvEvBKb3Iv4jkXX2vxeE/sF7ipF+Szz8g4TWwbAIFQImBO1NYo8e/QCs1XS0I6z+kj2oE2yjxPxb8A+M9Bts/tqTAq3yE5T/X+zteX4jjP9p2Ilnq8+U/tSJfoH+r6z86eOdp3MbwP/RDMiongNg/d9tvjSkT0T8cLdG5BEPwPw==\",\"dtype\":\"float64\",\"order\":\"little\",\"shape\":[47]},\"principal_component_1\":{\"__ndarray__\":\"cZicP/Wp8T/ndLjqfHDnP0ZUdjeu3/M/jn2nUXn15z96t9eWSwfsPwLqCkTLn+c/YokX1wP06z/nYaNJSxH0PxJwyrRZu/U/YSqW1lWi2z+iboqoZcrwP19oZCMRkP0/W6OtkJqmAUCrkwP82gT3P8Cof1zh4v0/b0K5SJgIBkDiZzhbjmwCQPIm68uNAwBAH09oqvMjAkBri3vYw9r1P6cQOb/Elfk/Nq6UReUl/j8X0QQIDXj5P3cdkBhdivc/PvYnSsB/A0AwhisDH3kKQJTn9rPvUgBANC4taDwvB0A/qLnnkUT7P6IJnj3aUv8/HNLu7wVR8D+Z2hYHfpP8P3obVl0h1v0/hfhsDuZ7A0AwtjE3VocCQGYtB9QUxP0/jE42KVhoBkCx+a/eUEj5P+3OTXR+jfU/OAUQICao/T8MDMQGFyEAQLRqwqkqc/4/Nw5TGLJYAEC4eb2NdgMAQO3gNY2o7f0/9YJComFV+D8M9OTEsgX2Pw==\",\"dtype\":\"float64\",\"order\":\"little\",\"shape\":[47]},\"principal_component_2\":{\"__ndarray__\":\"znb2/Z2e6z8XPDfKBSjjP9HNPSGgrOM/rl+rWRnr6D9cOXqk51HgP5NBqiETwtk/VZ7yIJwL0D8tiLBClya1vzgteShkC9U/Cwg+Gkhd6z+6k6QJ17XgP4Isy2Xw5Os/A8TpFji+4T+XlDOr+pqpv+5EGSLnotI/mAetLdY66T9AO0mDhTXaP7GQnq/nKee/uo2XATu+/j8xoQKF0jTmP2l9L85taNu/ZqdDi22E2j8wfGgVRqrlPzA3rDJONNA/fjlsMT10BEBfkKQTDFhjvzp0hSJpCe0/XJKR42l12T+OWt+y8znwP5mAK36oDfA/bqj7cmzHsD/hvEvBKb3Iv4jkXX2vxeE/sF7ipF+Szz8g4TWwbAIFQImBO1NYo8e/QCs1XS0I6z+kj2oE2yjxPxb8A+M9Bts/tqTAq3yE5T/X+zteX4jjP9p2Ilnq8+U/tSJfoH+r6z86eOdp3MbwP/RDMiongNg/d9tvjSkT0T8cLdG5BEPwPw==\",\"dtype\":\"float64\",\"order\":\"little\",\"shape\":[47]}},\"selected\":{\"id\":\"1207\"},\"selection_policy\":{\"id\":\"1226\"}},\"id\":\"1206\",\"type\":\"ColumnDataSource\"},{\"attributes\":{\"label\":{\"value\":\"0\"},\"renderers\":[{\"id\":\"1169\"}]},\"id\":\"1182\",\"type\":\"LegendItem\"},{\"attributes\":{\"fill_alpha\":{\"value\":0.1},\"fill_color\":{\"value\":\"#30a2da\"},\"line_alpha\":{\"value\":0.1},\"line_color\":{\"value\":\"#30a2da\"},\"size\":{\"value\":5.477225575051661},\"x\":{\"field\":\"principal component 1\"},\"y\":{\"field\":\"principal component 2\"}},\"id\":\"1167\",\"type\":\"Scatter\"},{\"attributes\":{},\"id\":\"1141\",\"type\":\"BasicTicker\"},{\"attributes\":{\"data\":{\"class\":{\"__ndarray__\":\"AQAAAAEAAAABAAAAAQAAAAEAAAABAAAAAQAAAAEAAAABAAAAAQAAAAEAAAABAAAAAQAAAAEAAAABAAAAAQAAAAEAAAABAAAAAQAAAAEAAAABAAAAAQAAAAEAAAABAAAAAQAAAAEAAAABAAAAAQAAAAEAAAABAAAAAQAAAAEAAAABAAAAAQAAAAEAAAABAAAAAQAAAAEAAAABAAAAAQAAAAEAAAABAAAAAQAAAAEAAAABAAAAAQAAAAEAAAABAAAAAQAAAAEAAAABAAAAAQAAAAEAAAA=\",\"dtype\":\"int32\",\"order\":\"little\",\"shape\":[53]},\"principal component 1\":{\"__ndarray__\":\"dBWMhntt2T9GnJZFWCnxP2SBHlf2mtg/+P4dZv7c379qGywXnaPtP9/AkDZaWXQ/G96FPizsv7+sz+h8JxTcP1BNsk78puE/NUUqJwTz5j/Ez63ghxOjv5du06S8RdY/1bIv7V2iwz9i6iTH4XHzPyPYZACmFsQ/U61SDE473j8MyjX41qXzP4cxy7fjI+Q/GNCK7kVq5j8bhVUnIzDlP+gb1FJINai/MT98rN0cvz9dj1g5BOqMPxTf6GWaNc4/C81ZRTXo8D+esJMoZVfMP8ybvwf1kvA/rl4TnFcrsT9uNwN1kKDRP8J9yQ7wbdE/oo3+VwPx4z+v3kvRzh7VP83EFNWD6de/0yTllsIb0j8pX21EL8y2PwAkQhu5t8w/7wRG5kBd4j/gjFDrsj/dv9yA0gDGJNA/3F8IKHdz8j/woUp+m+/WP1f35HGkDPQ/GOKIxsts9z/5RPpdThD0P4ditwdQKu8/8oqkmmBE9T9ffP3wHsDyP9z2a9zEx/E/JTazatUo8z+UvvFQw4ztP9xfCCh3c/I/R9VbMZXv+D802SvtkrLuPw==\",\"dtype\":\"float64\",\"order\":\"little\",\"shape\":[53]},\"principal component 2\":{\"__ndarray__\":\"jc0hw3Uh/L+LAFcJ4hrLv+4VlNb76eK/XJSza/eU/b+7i2FUCw+fP+TLA01tePC/8YKEXbZDBcCn9gYTsCWuv0XNqHx+XPy/13stxk+8x78oLLY26rLbvwC+JkVKZsi/kYnUeJ9N6b9i5T6HOSL6v7pAi9CC2fS/sgipiLWp2r9Cr8dW+Rvuv+PFU70Krdq/HDfCViNBsL9dGdg+X7fMv2cFEZBX6vC/Z8J8cXkE+b9p1i92nSz5v0CekB1e1Oi/Cy0SzX5h5L9zbj2aaPnRv7qLs++KR/a/hcdo/yc3y788ZwsN7Ub1vyQJ/oM76fG/x8Ud1SI0nD9k68QlE6Xvv8vC5Ku5JADAn0s7dJBT67+mjkY+Z2PGv0r2R1TcWdi/gjq1mhitw7+y+86JpaH4v6N6HI5KEeO/RwhbdkNx5r86lg29Jfb4v40xaImirfK/oq9g7els3L9MKnQyOXv7vz/NWXwPR+K/QGwdsBUn37/C2YlbzWjUv/6TgLFv8dK/Sa/b9jwm6r9tAFtSILGTP0cIW3ZDcea/vVrVOlT47L8mCiw2mtGWvw==\",\"dtype\":\"float64\",\"order\":\"little\",\"shape\":[53]},\"principal_component_1\":{\"__ndarray__\":\"dBWMhntt2T9GnJZFWCnxP2SBHlf2mtg/+P4dZv7c379qGywXnaPtP9/AkDZaWXQ/G96FPizsv7+sz+h8JxTcP1BNsk78puE/NUUqJwTz5j/Ez63ghxOjv5du06S8RdY/1bIv7V2iwz9i6iTH4XHzPyPYZACmFsQ/U61SDE473j8MyjX41qXzP4cxy7fjI+Q/GNCK7kVq5j8bhVUnIzDlP+gb1FJINai/MT98rN0cvz9dj1g5BOqMPxTf6GWaNc4/C81ZRTXo8D+esJMoZVfMP8ybvwf1kvA/rl4TnFcrsT9uNwN1kKDRP8J9yQ7wbdE/oo3+VwPx4z+v3kvRzh7VP83EFNWD6de/0yTllsIb0j8pX21EL8y2PwAkQhu5t8w/7wRG5kBd4j/gjFDrsj/dv9yA0gDGJNA/3F8IKHdz8j/woUp+m+/WP1f35HGkDPQ/GOKIxsts9z/5RPpdThD0P4ditwdQKu8/8oqkmmBE9T9ffP3wHsDyP9z2a9zEx/E/JTazatUo8z+UvvFQw4ztP9xfCCh3c/I/R9VbMZXv+D802SvtkrLuPw==\",\"dtype\":\"float64\",\"order\":\"little\",\"shape\":[53]},\"principal_component_2\":{\"__ndarray__\":\"jc0hw3Uh/L+LAFcJ4hrLv+4VlNb76eK/XJSza/eU/b+7i2FUCw+fP+TLA01tePC/8YKEXbZDBcCn9gYTsCWuv0XNqHx+XPy/13stxk+8x78oLLY26rLbvwC+JkVKZsi/kYnUeJ9N6b9i5T6HOSL6v7pAi9CC2fS/sgipiLWp2r9Cr8dW+Rvuv+PFU70Krdq/HDfCViNBsL9dGdg+X7fMv2cFEZBX6vC/Z8J8cXkE+b9p1i92nSz5v0CekB1e1Oi/Cy0SzX5h5L9zbj2aaPnRv7qLs++KR/a/hcdo/yc3y788ZwsN7Ub1vyQJ/oM76fG/x8Ud1SI0nD9k68QlE6Xvv8vC5Ku5JADAn0s7dJBT67+mjkY+Z2PGv0r2R1TcWdi/gjq1mhitw7+y+86JpaH4v6N6HI5KEeO/RwhbdkNx5r86lg29Jfb4v40xaImirfK/oq9g7els3L9MKnQyOXv7vz/NWXwPR+K/QGwdsBUn37/C2YlbzWjUv/6TgLFv8dK/Sa/b9jwm6r9tAFtSILGTP0cIW3ZDcea/vVrVOlT47L8mCiw2mtGWvw==\",\"dtype\":\"float64\",\"order\":\"little\",\"shape\":[53]}},\"selected\":{\"id\":\"1185\"},\"selection_policy\":{\"id\":\"1202\"}},\"id\":\"1184\",\"type\":\"ColumnDataSource\"},{\"attributes\":{\"axis\":{\"id\":\"1140\"},\"dimension\":1,\"grid_line_color\":null,\"ticker\":null},\"id\":\"1143\",\"type\":\"Grid\"},{\"attributes\":{\"active_multi\":null,\"tools\":[{\"id\":\"1124\"},{\"id\":\"1144\"},{\"id\":\"1145\"},{\"id\":\"1146\"},{\"id\":\"1147\"},{\"id\":\"1148\"}]},\"id\":\"1150\",\"type\":\"Toolbar\"},{\"attributes\":{\"data_source\":{\"id\":\"1206\"},\"glyph\":{\"id\":\"1209\"},\"hover_glyph\":null,\"muted_glyph\":{\"id\":\"1211\"},\"nonselection_glyph\":{\"id\":\"1210\"},\"selection_glyph\":{\"id\":\"1229\"},\"view\":{\"id\":\"1213\"}},\"id\":\"1212\",\"type\":\"GlyphRenderer\"},{\"attributes\":{\"source\":{\"id\":\"1163\"}},\"id\":\"1170\",\"type\":\"CDSView\"},{\"attributes\":{\"margin\":[5,5,5,5],\"name\":\"HSpacer01860\",\"sizing_mode\":\"stretch_width\"},\"id\":\"1121\",\"type\":\"Spacer\"},{\"attributes\":{},\"id\":\"1162\",\"type\":\"AllLabels\"},{\"attributes\":{\"fill_color\":{\"value\":\"#e5ae38\"},\"line_color\":{\"value\":\"#e5ae38\"},\"size\":{\"value\":5.477225575051661},\"x\":{\"field\":\"principal component 1\"},\"y\":{\"field\":\"principal component 2\"}},\"id\":\"1209\",\"type\":\"Scatter\"},{\"attributes\":{\"bottom_units\":\"screen\",\"fill_alpha\":0.5,\"fill_color\":\"lightgrey\",\"left_units\":\"screen\",\"level\":\"overlay\",\"line_alpha\":1.0,\"line_color\":\"black\",\"line_dash\":[4,4],\"line_width\":2,\"right_units\":\"screen\",\"syncable\":false,\"top_units\":\"screen\"},\"id\":\"1149\",\"type\":\"BoxAnnotation\"},{\"attributes\":{\"end\":3.260414452028091,\"reset_end\":3.260414452028091,\"reset_start\":-3.1961060534153822,\"start\":-3.1961060534153822,\"tags\":[[[\"principal component 2\",\"principal component 2\",null]]]},\"id\":\"1123\",\"type\":\"Range1d\"},{\"attributes\":{\"fill_color\":{\"value\":\"#30a2da\"},\"line_color\":{\"value\":\"#30a2da\"},\"size\":{\"value\":5.477225575051661},\"x\":{\"field\":\"principal component 1\"},\"y\":{\"field\":\"principal component 2\"}},\"id\":\"1166\",\"type\":\"Scatter\"},{\"attributes\":{},\"id\":\"1134\",\"type\":\"LinearScale\"},{\"attributes\":{\"data_source\":{\"id\":\"1184\"},\"glyph\":{\"id\":\"1187\"},\"hover_glyph\":null,\"muted_glyph\":{\"id\":\"1189\"},\"nonselection_glyph\":{\"id\":\"1188\"},\"selection_glyph\":{\"id\":\"1205\"},\"view\":{\"id\":\"1191\"}},\"id\":\"1190\",\"type\":\"GlyphRenderer\"},{\"attributes\":{\"angle\":{\"value\":0.0},\"fill_alpha\":{\"value\":1.0},\"fill_color\":{\"value\":\"#30a2da\"},\"hatch_alpha\":{\"value\":1.0},\"hatch_color\":{\"value\":\"black\"},\"hatch_scale\":{\"value\":12.0},\"hatch_weight\":{\"value\":1.0},\"line_alpha\":{\"value\":1.0},\"line_cap\":{\"value\":\"butt\"},\"line_color\":{\"value\":\"#30a2da\"},\"line_dash\":{\"value\":[]},\"line_dash_offset\":{\"value\":0},\"line_join\":{\"value\":\"bevel\"},\"line_width\":{\"value\":1},\"marker\":{\"value\":\"circle\"},\"size\":{\"value\":5.477225575051661},\"x\":{\"field\":\"principal component 1\"},\"y\":{\"field\":\"principal component 2\"}},\"id\":\"1183\",\"type\":\"Scatter\"},{\"attributes\":{\"angle\":{\"value\":0.0},\"fill_alpha\":{\"value\":1.0},\"fill_color\":{\"value\":\"#fc4f30\"},\"hatch_alpha\":{\"value\":1.0},\"hatch_color\":{\"value\":\"black\"},\"hatch_scale\":{\"value\":12.0},\"hatch_weight\":{\"value\":1.0},\"line_alpha\":{\"value\":1.0},\"line_cap\":{\"value\":\"butt\"},\"line_color\":{\"value\":\"#fc4f30\"},\"line_dash\":{\"value\":[]},\"line_dash_offset\":{\"value\":0},\"line_join\":{\"value\":\"bevel\"},\"line_width\":{\"value\":1},\"marker\":{\"value\":\"circle\"},\"size\":{\"value\":5.477225575051661},\"x\":{\"field\":\"principal component 1\"},\"y\":{\"field\":\"principal component 2\"}},\"id\":\"1205\",\"type\":\"Scatter\"},{\"attributes\":{\"source\":{\"id\":\"1184\"}},\"id\":\"1191\",\"type\":\"CDSView\"},{\"attributes\":{},\"id\":\"1179\",\"type\":\"UnionRenderers\"},{\"attributes\":{},\"id\":\"1164\",\"type\":\"Selection\"},{\"attributes\":{},\"id\":\"1207\",\"type\":\"Selection\"},{\"attributes\":{\"label\":{\"value\":\"1\"},\"renderers\":[{\"id\":\"1190\"}]},\"id\":\"1204\",\"type\":\"LegendItem\"},{\"attributes\":{\"data_source\":{\"id\":\"1163\"},\"glyph\":{\"id\":\"1166\"},\"hover_glyph\":null,\"muted_glyph\":{\"id\":\"1168\"},\"nonselection_glyph\":{\"id\":\"1167\"},\"selection_glyph\":{\"id\":\"1183\"},\"view\":{\"id\":\"1170\"}},\"id\":\"1169\",\"type\":\"GlyphRenderer\"},{\"attributes\":{\"fill_alpha\":{\"value\":0.2},\"fill_color\":{\"value\":\"#fc4f30\"},\"line_alpha\":{\"value\":0.2},\"line_color\":{\"value\":\"#fc4f30\"},\"size\":{\"value\":5.477225575051661},\"x\":{\"field\":\"principal component 1\"},\"y\":{\"field\":\"principal component 2\"}},\"id\":\"1189\",\"type\":\"Scatter\"},{\"attributes\":{\"fill_alpha\":{\"value\":0.1},\"fill_color\":{\"value\":\"#fc4f30\"},\"line_alpha\":{\"value\":0.1},\"line_color\":{\"value\":\"#fc4f30\"},\"size\":{\"value\":5.477225575051661},\"x\":{\"field\":\"principal component 1\"},\"y\":{\"field\":\"principal component 2\"}},\"id\":\"1188\",\"type\":\"Scatter\"},{\"attributes\":{},\"id\":\"1160\",\"type\":\"BasicTickFormatter\"},{\"attributes\":{},\"id\":\"1144\",\"type\":\"SaveTool\"}],\"root_ids\":[\"1120\"]},\"title\":\"Bokeh Application\",\"version\":\"2.3.2\"}};\n",
       "    var render_items = [{\"docid\":\"4f7667b0-fd45-4af7-a6e6-7824b1351c99\",\"root_ids\":[\"1120\"],\"roots\":{\"1120\":\"3fd9f141-4d3c-4dc1-8e2b-4e45ba8f8bc7\"}}];\n",
       "    root.Bokeh.embed.embed_items_notebook(docs_json, render_items);\n",
       "  }\n",
       "  if (root.Bokeh !== undefined && root.Bokeh.Panel !== undefined) {\n",
       "    embed_document(root);\n",
       "  } else {\n",
       "    var attempts = 0;\n",
       "    var timer = setInterval(function(root) {\n",
       "      if (root.Bokeh !== undefined && root.Bokeh.Panel !== undefined) {\n",
       "        clearInterval(timer);\n",
       "        embed_document(root);\n",
       "      } else if (document.readyState == \"complete\") {\n",
       "        attempts++;\n",
       "        if (attempts > 100) {\n",
       "          clearInterval(timer);\n",
       "          console.log(\"Bokeh: ERROR: Unable to run BokehJS code because BokehJS library is missing\");\n",
       "        }\n",
       "      }\n",
       "    }, 10, root)\n",
       "  }\n",
       "})(window);</script>"
      ],
      "text/plain": [
       ":NdOverlay   [class]\n",
       "   :Scatter   [principal component 1]   (principal component 2,class)"
      ]
     },
     "execution_count": 16,
     "metadata": {
      "application/vnd.holoviews_exec.v0+json": {
       "id": "1120"
      }
     },
     "output_type": "execute_result"
    }
   ],
   "source": [
    "df_iris_pca.hvplot.scatter(\n",
    "    x=\"principal component 1\",\n",
    "    y=\"principal component 2\",\n",
    "    hover_cols=[\"class\"],\n",
    "    by=\"class\",\n",
    ")"
   ]
  },
  {
   "cell_type": "code",
   "execution_count": null,
   "id": "7686fc39",
   "metadata": {},
   "outputs": [],
   "source": []
  }
 ],
 "metadata": {
  "kernelspec": {
   "display_name": "mlenv",
   "language": "python",
   "name": "mlenv"
  },
  "language_info": {
   "codemirror_mode": {
    "name": "ipython",
    "version": 3
   },
   "file_extension": ".py",
   "mimetype": "text/x-python",
   "name": "python",
   "nbconvert_exporter": "python",
   "pygments_lexer": "ipython3",
   "version": "3.7.10"
  }
 },
 "nbformat": 4,
 "nbformat_minor": 5
}
